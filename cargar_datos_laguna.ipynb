{
 "cells": [
  {
   "cell_type": "markdown",
   "metadata": {},
   "source": [
    "# ¿?"
   ]
  },
  {
   "cell_type": "markdown",
   "metadata": {},
   "source": [
    "# Librerías"
   ]
  },
  {
   "cell_type": "code",
   "execution_count": 1674,
   "metadata": {},
   "outputs": [],
   "source": [
    "import pandas as pd\n",
    "import matplotlib.pyplot as plt\n",
    "import seaborn as sns"
   ]
  },
  {
   "cell_type": "markdown",
   "metadata": {},
   "source": [
    "# Constantes"
   ]
  },
  {
   "cell_type": "code",
   "execution_count": 1675,
   "metadata": {},
   "outputs": [],
   "source": [
    "COLORES = [\"cornflowerblue\", \"midnightblue\", \"forestgreen\", \"brown\"]\n",
    "\n",
    "# Ficheros\n",
    "fichero_fondo_06 = 'data/fondo_06011702.csv'\n",
    "fichero_fondo_16 = 'data/fondo_16061107.csv'\n",
    "fichero_fondo_26 = 'data/fondo_26040406.csv'\n",
    "fichero_fondo_19 = 'data/fondo_103319.csv'\n",
    "fichero_fondo_22 = 'data/fondo_103322.csv'\n",
    "\n",
    "fichero_superficie_06 = 'data/superficie_06010702.csv'\n",
    "fichero_superficie_16 = 'data/superficie_16061107.csv'\n",
    "fichero_superficie_26 = 'data/superficie_26040604.csv'\n",
    "fichero_superficie_32 = 'data/superficie_103326.csv'\n",
    "fichero_superficie_29 = 'data/superficie_103329.csv'\n",
    "\n",
    "fichero_ambiente = 'data/ambiente_2022-2023.csv'\n",
    "fichero_ambiente_13 = 'data/ambiente_103313.csv'\n",
    "\n",
    "fichero_nivel = 'data/nivel_laguna-data-20_07_2023-11_04_02.csv'\n",
    "fichero_nivel_lag = 'data/nivel_laguna.csv'"
   ]
  },
  {
   "cell_type": "markdown",
   "metadata": {},
   "source": [
    "# Carga de datos"
   ]
  },
  {
   "cell_type": "markdown",
   "metadata": {},
   "source": [
    "## - Tª fondo"
   ]
  },
  {
   "cell_type": "code",
   "execution_count": 1676,
   "metadata": {},
   "outputs": [
    {
     "name": "stdout",
     "output_type": "stream",
     "text": [
      "                    date  fondo\n",
      "0    2023-01-06 15:30:00    NaN\n",
      "1    2023-01-06 16:00:00    NaN\n",
      "2    2023-01-06 16:30:00    NaN\n",
      "3    2023-01-06 17:00:00    NaN\n",
      "4    2023-01-06 17:30:00    NaN\n",
      "...                  ...    ...\n",
      "7838 2023-09-14 08:00:00  28.75\n",
      "7839 2023-09-14 09:00:00  28.69\n",
      "7840 2023-09-14 09:00:00  28.81\n",
      "7841 2023-09-14 10:00:00  28.83\n",
      "7842 2023-09-14 10:00:00  28.73\n",
      "\n",
      "[7843 rows x 2 columns]\n"
     ]
    }
   ],
   "source": [
    "data_fondo_06 = pd.read_csv(fichero_fondo_06)\n",
    "data_fondo_06.rename(columns={'fondo s2': 'fondo'}, inplace=True)\n",
    "\n",
    "data_fondo_16= pd.read_csv(fichero_fondo_16)\n",
    "\n",
    "data_fondo_26 = pd.read_csv(fichero_fondo_26)\n",
    "data_fondo_26.rename(columns={'fondo s22': 'fondo'}, inplace=True)\n",
    "\n",
    "data_fondo_19 = pd.read_csv(fichero_fondo_19)\n",
    "data_fondo_19.rename(columns={'fondo s22': 'fondo'}, inplace=True)\n",
    "\n",
    "data_fondo_22 = pd.read_csv(fichero_fondo_22)\n",
    "data_fondo_22.rename(columns={'fondo s2': 'fondo'}, inplace=True)\n",
    "\n",
    "data_fondo = pd.concat([data_fondo_16,\n",
    "                        data_fondo_06,\n",
    "                        data_fondo_26, \n",
    "                        data_fondo_19,\n",
    "                        data_fondo_22], ignore_index=True)\n",
    "data_fondo.rename(columns={'Time': 'date'}, inplace=True)\n",
    "\n",
    "data_fondo['date'] = pd.to_datetime(data_fondo['date'])  \n",
    "data_fondo = data_fondo.sort_values(by='date')\n",
    "\n",
    "# Reiniciar los índices después de ordenar\n",
    "data_fondo = data_fondo.reset_index(drop=True)\n",
    "\n",
    "print(data_fondo)"
   ]
  },
  {
   "cell_type": "markdown",
   "metadata": {},
   "source": [
    "Comprobando si hay valores nulos y eliminandolos"
   ]
  },
  {
   "cell_type": "code",
   "execution_count": 1677,
   "metadata": {},
   "outputs": [
    {
     "name": "stdout",
     "output_type": "stream",
     "text": [
      "Cantidad de NaN en 'fondo' antes de la eliminación: 110\n",
      "Cantidad de NaN en 'fondo' después de la eliminación: 0\n"
     ]
    }
   ],
   "source": [
    "nan_count_before = data_fondo['fondo'].isna().sum()\n",
    "\n",
    "data_fondo = data_fondo.dropna(subset=['fondo'])\n",
    "\n",
    "nan_count_after = data_fondo['fondo'].isna().sum()\n",
    "\n",
    "print(\"Cantidad de NaN en 'fondo' antes de la eliminación:\", nan_count_before)\n",
    "print(\"Cantidad de NaN en 'fondo' después de la eliminación:\", nan_count_after)"
   ]
  },
  {
   "cell_type": "markdown",
   "metadata": {},
   "source": [
    "Comprobando si hay fechas duplicadas"
   ]
  },
  {
   "cell_type": "code",
   "execution_count": 1678,
   "metadata": {},
   "outputs": [],
   "source": [
    "# hay_duplicados = data_fondo['date'].duplicated().any()\n",
    "\n",
    "# if hay_duplicados:\n",
    "#     print(\"Hay fechas duplicadas en la columna 'date'.\")\n",
    "# else:\n",
    "#     print(\"No hay fechas duplicadas en la columna 'date'.\")"
   ]
  },
  {
   "cell_type": "code",
   "execution_count": 1679,
   "metadata": {},
   "outputs": [],
   "source": [
    "# print(data_fondo.info())\n",
    "\n",
    "# data_fondo = data_fondo.groupby('date').mean(numeric_only = True).reset_index()\n",
    "\n",
    "# data_fondo.info()"
   ]
  },
  {
   "cell_type": "markdown",
   "metadata": {},
   "source": [
    "## - Tª superficie"
   ]
  },
  {
   "cell_type": "code",
   "execution_count": 1680,
   "metadata": {},
   "outputs": [
    {
     "name": "stdout",
     "output_type": "stream",
     "text": [
      "                    date  superficie\n",
      "0    2023-01-06 15:30:00         NaN\n",
      "1    2023-01-06 16:00:00         NaN\n",
      "2    2023-01-06 16:30:00         NaN\n",
      "3    2023-01-06 17:00:00         NaN\n",
      "4    2023-01-06 17:30:00         NaN\n",
      "...                  ...         ...\n",
      "7838 2023-09-14 08:00:00       28.55\n",
      "7839 2023-09-14 09:00:00       28.49\n",
      "7840 2023-09-14 09:00:00       28.55\n",
      "7841 2023-09-14 10:00:00       28.58\n",
      "7842 2023-09-14 10:00:00       28.50\n",
      "\n",
      "[7843 rows x 2 columns]\n"
     ]
    }
   ],
   "source": [
    "data_superficie_06 = pd.read_csv(fichero_superficie_06)\n",
    "data_superficie_06.rename(columns={'superficie s1': 'superficie'}, inplace=True)\n",
    "\n",
    "data_superficie_16= pd.read_csv(fichero_superficie_16)\n",
    "\n",
    "data_superficie_26 = pd.read_csv(fichero_superficie_26)\n",
    "data_superficie_26.rename(columns={'superficie s1': 'superficie'}, inplace=True)\n",
    "\n",
    "data_superficie_32 = pd.read_csv(fichero_superficie_32)\n",
    "data_superficie_32.rename(columns={'superficie s1': 'superficie'}, inplace=True)\n",
    "\n",
    "data_superficie_29 = pd.read_csv(fichero_superficie_29)\n",
    "data_superficie_29.rename(columns={'superficie s11': 'superficie'}, inplace=True)\n",
    "\n",
    "data_superficie = pd.concat([data_superficie_16,\n",
    "                             data_superficie_06,\n",
    "                             data_superficie_26,\n",
    "                             data_superficie_29,\n",
    "                             data_superficie_32], ignore_index=True)\n",
    "data_superficie.rename(columns={'Time': 'date'}, inplace=True)\n",
    "\n",
    "data_superficie['date'] = pd.to_datetime(data_superficie['date'])  \n",
    "data_superficie = data_superficie.sort_values(by='date')\n",
    "\n",
    "# Reiniciar los índices después de ordenar\n",
    "data_superficie = data_superficie.reset_index(drop=True)\n",
    "\n",
    "print(data_superficie)"
   ]
  },
  {
   "cell_type": "markdown",
   "metadata": {},
   "source": [
    "Comprobando si hay valores nulos y eliminandolos"
   ]
  },
  {
   "cell_type": "code",
   "execution_count": 1681,
   "metadata": {},
   "outputs": [
    {
     "name": "stdout",
     "output_type": "stream",
     "text": [
      "Cantidad de NaN en 'superficie' antes de la eliminación: 112\n",
      "Cantidad de NaN en 'superficie' después de la eliminación: 0\n"
     ]
    }
   ],
   "source": [
    "nan_count_before = data_superficie['superficie'].isna().sum()\n",
    "\n",
    "data_superficie = data_superficie.dropna(subset=['superficie'])\n",
    "\n",
    "nan_count_after = data_superficie['superficie'].isna().sum()\n",
    "\n",
    "print(\"Cantidad de NaN en 'superficie' antes de la eliminación:\", nan_count_before)\n",
    "print(\"Cantidad de NaN en 'superficie' después de la eliminación:\", nan_count_after)"
   ]
  },
  {
   "cell_type": "markdown",
   "metadata": {},
   "source": [
    "Comprobando si hay fechas duplicadas"
   ]
  },
  {
   "cell_type": "code",
   "execution_count": 1682,
   "metadata": {},
   "outputs": [],
   "source": [
    "# hay_duplicados = data_superficie['date'].duplicated().any()\n",
    "\n",
    "# if hay_duplicados:\n",
    "#     print(\"Hay fechas duplicadas en la columna 'date'.\")\n",
    "# else:\n",
    "#     print(\"No hay fechas duplicadas en la columna 'date'.\")"
   ]
  },
  {
   "cell_type": "code",
   "execution_count": 1683,
   "metadata": {},
   "outputs": [],
   "source": [
    "# print(data_superficie.info())\n",
    "\n",
    "# data_superficie = data_superficie.groupby('date').mean(numeric_only = True).reset_index()\n",
    "\n",
    "# data_superficie.info()"
   ]
  },
  {
   "cell_type": "markdown",
   "metadata": {},
   "source": [
    "## - Tª ambiente"
   ]
  },
  {
   "cell_type": "code",
   "execution_count": 1684,
   "metadata": {},
   "outputs": [
    {
     "name": "stdout",
     "output_type": "stream",
     "text": [
      "                    date  ambiente\n",
      "0    2022-09-24 20:00:00       NaN\n",
      "1    2022-09-25 02:00:00       NaN\n",
      "2    2022-09-25 08:00:00       NaN\n",
      "3    2022-09-25 14:00:00       NaN\n",
      "4    2022-09-25 20:00:00       NaN\n",
      "...                  ...       ...\n",
      "2750 2023-09-14 06:00:00     24.49\n",
      "2751 2023-09-14 07:00:00     25.06\n",
      "2752 2023-09-14 08:00:00     25.33\n",
      "2753 2023-09-14 09:00:00     26.13\n",
      "2754 2023-09-14 10:00:00     26.45\n",
      "\n",
      "[2755 rows x 2 columns]\n"
     ]
    }
   ],
   "source": [
    "data_ambiente_22 = pd.read_csv(fichero_ambiente)\n",
    "data_ambiente_22.rename(columns={'lama.mean': 'ambiente'}, inplace=True)\n",
    "data_ambiente_22.rename(columns={'Time': 'date'}, inplace=True)\n",
    "data_ambiente_22['date'] = pd.to_datetime(data_ambiente_22['date'], format=\"%d/%m/%Y, %H:%M:%S\")  \n",
    "\n",
    "data_ambiente_13 = pd.read_csv(fichero_ambiente_13)\n",
    "data_ambiente_13.rename(columns={'TEMPERATURA AMBIENTE': 'ambiente'}, inplace=True)\n",
    "data_ambiente_13.rename(columns={'Time': 'date'}, inplace=True)\n",
    "data_ambiente_13['date'] = pd.to_datetime(data_ambiente_13['date'], format=\"%Y-%m-%d %H:%M:%S\")  \n",
    "\n",
    "\n",
    "data_ambiente = pd.concat([data_ambiente_22,\n",
    "                           data_ambiente_13], ignore_index=True)\n",
    "\n",
    "data_ambiente = data_ambiente.sort_values(by='date')\n",
    "\n",
    "# Reiniciar los índices después de ordenar\n",
    "data_ambiente = data_ambiente.reset_index(drop=True)\n",
    "\n",
    "print(data_ambiente)"
   ]
  },
  {
   "cell_type": "markdown",
   "metadata": {},
   "source": [
    "Comprobando si hay valores nulos y eliminandolos"
   ]
  },
  {
   "cell_type": "code",
   "execution_count": 1685,
   "metadata": {},
   "outputs": [
    {
     "name": "stdout",
     "output_type": "stream",
     "text": [
      "Cantidad de NaN en 'ambiente' antes de la eliminación: 160\n",
      "Cantidad de NaN en 'ambiente' después de la eliminación: 0\n"
     ]
    }
   ],
   "source": [
    "nan_count_before = data_ambiente['ambiente'].isna().sum()\n",
    "\n",
    "data_ambiente = data_ambiente.dropna(subset=['ambiente'])\n",
    "\n",
    "nan_count_after = data_ambiente['ambiente'].isna().sum()\n",
    "\n",
    "print(\"Cantidad de NaN en 'ambiente' antes de la eliminación:\", nan_count_before)\n",
    "print(\"Cantidad de NaN en 'ambiente' después de la eliminación:\", nan_count_after)"
   ]
  },
  {
   "cell_type": "markdown",
   "metadata": {},
   "source": [
    "Comprobando si hay fechas duplicadas"
   ]
  },
  {
   "cell_type": "code",
   "execution_count": 1686,
   "metadata": {},
   "outputs": [],
   "source": [
    "# hay_duplicados = data_fondo['date'].duplicated().any()\n",
    "\n",
    "# if hay_duplicados:\n",
    "#     print(\"Hay fechas duplicadas en la columna 'date'.\")\n",
    "# else:\n",
    "#     print(\"No hay fechas duplicadas en la columna 'date'.\")"
   ]
  },
  {
   "cell_type": "code",
   "execution_count": 1687,
   "metadata": {},
   "outputs": [],
   "source": [
    "# print(data_ambiente.info())\n",
    "\n",
    "# data_ambiente = data_ambiente.groupby('date').mean(numeric_only = True).reset_index()\n",
    "\n",
    "# data_ambiente.info()"
   ]
  },
  {
   "cell_type": "markdown",
   "metadata": {},
   "source": [
    "## - Nivel del agua"
   ]
  },
  {
   "cell_type": "code",
   "execution_count": 1688,
   "metadata": {},
   "outputs": [
    {
     "name": "stdout",
     "output_type": "stream",
     "text": [
      "                    date  nivel\n",
      "0    2022-09-21 02:00:00    NaN\n",
      "1    2022-09-22 02:00:00    NaN\n",
      "2    2022-09-23 02:00:00    NaN\n",
      "3    2022-09-24 02:00:00    NaN\n",
      "4    2022-09-25 02:00:00    NaN\n",
      "...                  ...    ...\n",
      "2459 2023-09-14 06:00:00   34.0\n",
      "2460 2023-09-14 07:00:00   41.0\n",
      "2461 2023-09-14 08:00:00   34.0\n",
      "2462 2023-09-14 09:00:00   33.0\n",
      "2463 2023-09-14 10:00:00    NaN\n",
      "\n",
      "[2464 rows x 2 columns]\n"
     ]
    }
   ],
   "source": [
    "data_nivel_20 = pd.read_csv(fichero_nivel)\n",
    "data_nivel_20.rename(columns={'Altura lamina ': 'nivel'}, inplace=True)\n",
    "data_nivel_20.rename(columns={'Time': 'date'}, inplace=True)\n",
    "data_nivel_20['date'] = pd.to_datetime(data_nivel_20['date'], format=\"%d/%m/%Y, %H:%M:%S\")  \n",
    "\n",
    "\n",
    "data_nivel_lag = pd.read_csv(fichero_nivel_lag)\n",
    "data_nivel_lag.rename(columns={'NIVEL CADA HORA': 'nivel'}, inplace=True)\n",
    "data_nivel_lag.rename(columns={'Time': 'date'}, inplace=True)\n",
    "data_nivel_lag['date'] = pd.to_datetime(data_nivel_lag['date'], format=\"%Y-%m-%d %H:%M:%S\")  \n",
    "\n",
    "\n",
    "data_nivel = pd.concat([data_nivel_20,\n",
    "                        data_nivel_lag], ignore_index=True)\n",
    "\n",
    "\n",
    "data_nivel = data_nivel.sort_values(by='date')\n",
    "\n",
    "# Reiniciar los índices después de ordenar\n",
    "data_nivel = data_nivel.reset_index(drop=True)\n",
    "\n",
    "print(data_nivel)"
   ]
  },
  {
   "cell_type": "markdown",
   "metadata": {},
   "source": [
    "Comprobando si hay valores nulos y eliminandolos"
   ]
  },
  {
   "cell_type": "code",
   "execution_count": 1689,
   "metadata": {},
   "outputs": [
    {
     "name": "stdout",
     "output_type": "stream",
     "text": [
      "Cantidad de NaN en 'nivel' antes de la eliminación: 86\n",
      "Cantidad de NaN en 'nivel' después de la eliminación: 0\n"
     ]
    }
   ],
   "source": [
    "nan_count_before = data_nivel['nivel'].isna().sum()\n",
    "\n",
    "data_nivel = data_nivel.dropna(subset=['nivel'])\n",
    "\n",
    "nan_count_after = data_nivel['nivel'].isna().sum()\n",
    "\n",
    "print(\"Cantidad de NaN en 'nivel' antes de la eliminación:\", nan_count_before)\n",
    "print(\"Cantidad de NaN en 'nivel' después de la eliminación:\", nan_count_after)"
   ]
  },
  {
   "cell_type": "markdown",
   "metadata": {},
   "source": [
    "Comprobando si hay fechas duplicadas"
   ]
  },
  {
   "cell_type": "code",
   "execution_count": 1690,
   "metadata": {},
   "outputs": [],
   "source": [
    "# hay_duplicados = data_nivel['date'].duplicated().any()\n",
    "\n",
    "# if hay_duplicados:\n",
    "#     print(\"Hay fechas duplicadas en la columna 'date'.\")\n",
    "# else:\n",
    "#     print(\"No hay fechas duplicadas en la columna 'date'.\")"
   ]
  },
  {
   "cell_type": "code",
   "execution_count": 1691,
   "metadata": {},
   "outputs": [],
   "source": [
    "# print(data_nivel.info())\n",
    "\n",
    "# data_nivel = data_nivel.groupby('date').mean(numeric_only = True).reset_index()\n",
    "\n",
    "# data_nivel.info()"
   ]
  },
  {
   "cell_type": "markdown",
   "metadata": {},
   "source": [
    "# Unificación de las fuentes de datos"
   ]
  },
  {
   "cell_type": "code",
   "execution_count": 1692,
   "metadata": {},
   "outputs": [
    {
     "data": {
      "text/html": [
       "<div>\n",
       "<style scoped>\n",
       "    .dataframe tbody tr th:only-of-type {\n",
       "        vertical-align: middle;\n",
       "    }\n",
       "\n",
       "    .dataframe tbody tr th {\n",
       "        vertical-align: top;\n",
       "    }\n",
       "\n",
       "    .dataframe thead th {\n",
       "        text-align: right;\n",
       "    }\n",
       "</style>\n",
       "<table border=\"1\" class=\"dataframe\">\n",
       "  <thead>\n",
       "    <tr style=\"text-align: right;\">\n",
       "      <th></th>\n",
       "      <th>date</th>\n",
       "      <th>fondo</th>\n",
       "      <th>superficie</th>\n",
       "      <th>ambiente</th>\n",
       "      <th>nivel</th>\n",
       "    </tr>\n",
       "  </thead>\n",
       "  <tbody>\n",
       "    <tr>\n",
       "      <th>0</th>\n",
       "      <td>2022-09-26 02:00:00</td>\n",
       "      <td>NaN</td>\n",
       "      <td>NaN</td>\n",
       "      <td>NaN</td>\n",
       "      <td>40.3</td>\n",
       "    </tr>\n",
       "    <tr>\n",
       "      <th>1</th>\n",
       "      <td>2022-09-26 02:00:00</td>\n",
       "      <td>NaN</td>\n",
       "      <td>NaN</td>\n",
       "      <td>20.474</td>\n",
       "      <td>NaN</td>\n",
       "    </tr>\n",
       "    <tr>\n",
       "      <th>2</th>\n",
       "      <td>2022-09-26 08:00:00</td>\n",
       "      <td>NaN</td>\n",
       "      <td>NaN</td>\n",
       "      <td>22.608</td>\n",
       "      <td>NaN</td>\n",
       "    </tr>\n",
       "    <tr>\n",
       "      <th>3</th>\n",
       "      <td>2022-09-26 14:00:00</td>\n",
       "      <td>NaN</td>\n",
       "      <td>NaN</td>\n",
       "      <td>24.422</td>\n",
       "      <td>NaN</td>\n",
       "    </tr>\n",
       "    <tr>\n",
       "      <th>4</th>\n",
       "      <td>2022-09-26 20:00:00</td>\n",
       "      <td>NaN</td>\n",
       "      <td>NaN</td>\n",
       "      <td>18.580</td>\n",
       "      <td>NaN</td>\n",
       "    </tr>\n",
       "    <tr>\n",
       "      <th>...</th>\n",
       "      <td>...</td>\n",
       "      <td>...</td>\n",
       "      <td>...</td>\n",
       "      <td>...</td>\n",
       "      <td>...</td>\n",
       "    </tr>\n",
       "    <tr>\n",
       "      <th>20432</th>\n",
       "      <td>2023-09-14 10:00:00</td>\n",
       "      <td>NaN</td>\n",
       "      <td>28.58</td>\n",
       "      <td>NaN</td>\n",
       "      <td>NaN</td>\n",
       "    </tr>\n",
       "    <tr>\n",
       "      <th>20433</th>\n",
       "      <td>2023-09-14 10:00:00</td>\n",
       "      <td>28.73</td>\n",
       "      <td>NaN</td>\n",
       "      <td>NaN</td>\n",
       "      <td>NaN</td>\n",
       "    </tr>\n",
       "    <tr>\n",
       "      <th>20434</th>\n",
       "      <td>2023-09-14 10:00:00</td>\n",
       "      <td>NaN</td>\n",
       "      <td>NaN</td>\n",
       "      <td>26.450</td>\n",
       "      <td>NaN</td>\n",
       "    </tr>\n",
       "    <tr>\n",
       "      <th>20435</th>\n",
       "      <td>2023-09-14 10:00:00</td>\n",
       "      <td>NaN</td>\n",
       "      <td>28.50</td>\n",
       "      <td>NaN</td>\n",
       "      <td>NaN</td>\n",
       "    </tr>\n",
       "    <tr>\n",
       "      <th>20436</th>\n",
       "      <td>2023-09-14 10:00:00</td>\n",
       "      <td>28.83</td>\n",
       "      <td>NaN</td>\n",
       "      <td>NaN</td>\n",
       "      <td>NaN</td>\n",
       "    </tr>\n",
       "  </tbody>\n",
       "</table>\n",
       "<p>20437 rows × 5 columns</p>\n",
       "</div>"
      ],
      "text/plain": [
       "                     date  fondo  superficie  ambiente  nivel\n",
       "0     2022-09-26 02:00:00    NaN         NaN       NaN   40.3\n",
       "1     2022-09-26 02:00:00    NaN         NaN    20.474    NaN\n",
       "2     2022-09-26 08:00:00    NaN         NaN    22.608    NaN\n",
       "3     2022-09-26 14:00:00    NaN         NaN    24.422    NaN\n",
       "4     2022-09-26 20:00:00    NaN         NaN    18.580    NaN\n",
       "...                   ...    ...         ...       ...    ...\n",
       "20432 2023-09-14 10:00:00    NaN       28.58       NaN    NaN\n",
       "20433 2023-09-14 10:00:00  28.73         NaN       NaN    NaN\n",
       "20434 2023-09-14 10:00:00    NaN         NaN    26.450    NaN\n",
       "20435 2023-09-14 10:00:00    NaN       28.50       NaN    NaN\n",
       "20436 2023-09-14 10:00:00  28.83         NaN       NaN    NaN\n",
       "\n",
       "[20437 rows x 5 columns]"
      ]
     },
     "execution_count": 1692,
     "metadata": {},
     "output_type": "execute_result"
    }
   ],
   "source": [
    "data = pd.concat([data_fondo, data_superficie, data_ambiente, data_nivel], ignore_index=True)\n",
    "\n",
    "data = data.sort_values(by='date').reset_index(drop=True)\n",
    "\n",
    "data"
   ]
  },
  {
   "cell_type": "markdown",
   "metadata": {},
   "source": [
    "Comprobando si hay fechas duplicadas"
   ]
  },
  {
   "cell_type": "code",
   "execution_count": 1693,
   "metadata": {},
   "outputs": [
    {
     "name": "stdout",
     "output_type": "stream",
     "text": [
      "Hay fechas duplicadas en la columna 'date'.\n",
      "Filas con fechas duplicadas:\n",
      "0       2022-09-26 02:00:00\n",
      "1       2022-09-26 02:00:00\n",
      "9       2022-09-28 02:00:00\n",
      "10      2022-09-28 02:00:00\n",
      "14      2022-09-29 02:00:00\n",
      "                ...        \n",
      "20432   2023-09-14 10:00:00\n",
      "20433   2023-09-14 10:00:00\n",
      "20434   2023-09-14 10:00:00\n",
      "20435   2023-09-14 10:00:00\n",
      "20436   2023-09-14 10:00:00\n",
      "Name: date, Length: 19909, dtype: datetime64[ns]\n"
     ]
    }
   ],
   "source": [
    "hay_duplicados = data['date'].duplicated().any()\n",
    "\n",
    "if hay_duplicados:\n",
    "    print(\"Hay fechas duplicadas en la columna 'date'.\")\n",
    "\n",
    "    filas_duplicadas = data[data.duplicated(subset=['date'], keep=False)]\n",
    "\n",
    "    print(\"Filas con fechas duplicadas:\")\n",
    "    print(filas_duplicadas[\"date\"])\n",
    "else:\n",
    "    print(\"No hay fechas duplicadas en la columna 'date'.\")"
   ]
  },
  {
   "cell_type": "code",
   "execution_count": 1694,
   "metadata": {},
   "outputs": [
    {
     "data": {
      "text/html": [
       "<div>\n",
       "<style scoped>\n",
       "    .dataframe tbody tr th:only-of-type {\n",
       "        vertical-align: middle;\n",
       "    }\n",
       "\n",
       "    .dataframe tbody tr th {\n",
       "        vertical-align: top;\n",
       "    }\n",
       "\n",
       "    .dataframe thead th {\n",
       "        text-align: right;\n",
       "    }\n",
       "</style>\n",
       "<table border=\"1\" class=\"dataframe\">\n",
       "  <thead>\n",
       "    <tr style=\"text-align: right;\">\n",
       "      <th></th>\n",
       "      <th>date</th>\n",
       "      <th>fondo</th>\n",
       "      <th>superficie</th>\n",
       "      <th>ambiente</th>\n",
       "      <th>nivel</th>\n",
       "    </tr>\n",
       "  </thead>\n",
       "  <tbody>\n",
       "    <tr>\n",
       "      <th>0</th>\n",
       "      <td>2022-09-26 02:00:00</td>\n",
       "      <td>NaN</td>\n",
       "      <td>NaN</td>\n",
       "      <td>NaN</td>\n",
       "      <td>40.3</td>\n",
       "    </tr>\n",
       "    <tr>\n",
       "      <th>1</th>\n",
       "      <td>2022-09-26 02:00:00</td>\n",
       "      <td>NaN</td>\n",
       "      <td>NaN</td>\n",
       "      <td>20.474</td>\n",
       "      <td>NaN</td>\n",
       "    </tr>\n",
       "    <tr>\n",
       "      <th>2</th>\n",
       "      <td>2022-09-26 08:00:00</td>\n",
       "      <td>NaN</td>\n",
       "      <td>NaN</td>\n",
       "      <td>22.608</td>\n",
       "      <td>NaN</td>\n",
       "    </tr>\n",
       "    <tr>\n",
       "      <th>3</th>\n",
       "      <td>2022-09-26 14:00:00</td>\n",
       "      <td>NaN</td>\n",
       "      <td>NaN</td>\n",
       "      <td>24.422</td>\n",
       "      <td>NaN</td>\n",
       "    </tr>\n",
       "    <tr>\n",
       "      <th>4</th>\n",
       "      <td>2022-09-26 20:00:00</td>\n",
       "      <td>NaN</td>\n",
       "      <td>NaN</td>\n",
       "      <td>18.580</td>\n",
       "      <td>NaN</td>\n",
       "    </tr>\n",
       "    <tr>\n",
       "      <th>...</th>\n",
       "      <td>...</td>\n",
       "      <td>...</td>\n",
       "      <td>...</td>\n",
       "      <td>...</td>\n",
       "      <td>...</td>\n",
       "    </tr>\n",
       "    <tr>\n",
       "      <th>20432</th>\n",
       "      <td>2023-09-14 10:00:00</td>\n",
       "      <td>NaN</td>\n",
       "      <td>28.58</td>\n",
       "      <td>NaN</td>\n",
       "      <td>NaN</td>\n",
       "    </tr>\n",
       "    <tr>\n",
       "      <th>20433</th>\n",
       "      <td>2023-09-14 10:00:00</td>\n",
       "      <td>28.73</td>\n",
       "      <td>NaN</td>\n",
       "      <td>NaN</td>\n",
       "      <td>NaN</td>\n",
       "    </tr>\n",
       "    <tr>\n",
       "      <th>20434</th>\n",
       "      <td>2023-09-14 10:00:00</td>\n",
       "      <td>NaN</td>\n",
       "      <td>NaN</td>\n",
       "      <td>26.450</td>\n",
       "      <td>NaN</td>\n",
       "    </tr>\n",
       "    <tr>\n",
       "      <th>20435</th>\n",
       "      <td>2023-09-14 10:00:00</td>\n",
       "      <td>NaN</td>\n",
       "      <td>28.50</td>\n",
       "      <td>NaN</td>\n",
       "      <td>NaN</td>\n",
       "    </tr>\n",
       "    <tr>\n",
       "      <th>20436</th>\n",
       "      <td>2023-09-14 10:00:00</td>\n",
       "      <td>28.83</td>\n",
       "      <td>NaN</td>\n",
       "      <td>NaN</td>\n",
       "      <td>NaN</td>\n",
       "    </tr>\n",
       "  </tbody>\n",
       "</table>\n",
       "<p>20437 rows × 5 columns</p>\n",
       "</div>"
      ],
      "text/plain": [
       "                     date  fondo  superficie  ambiente  nivel\n",
       "0     2022-09-26 02:00:00    NaN         NaN       NaN   40.3\n",
       "1     2022-09-26 02:00:00    NaN         NaN    20.474    NaN\n",
       "2     2022-09-26 08:00:00    NaN         NaN    22.608    NaN\n",
       "3     2022-09-26 14:00:00    NaN         NaN    24.422    NaN\n",
       "4     2022-09-26 20:00:00    NaN         NaN    18.580    NaN\n",
       "...                   ...    ...         ...       ...    ...\n",
       "20432 2023-09-14 10:00:00    NaN       28.58       NaN    NaN\n",
       "20433 2023-09-14 10:00:00  28.73         NaN       NaN    NaN\n",
       "20434 2023-09-14 10:00:00    NaN         NaN    26.450    NaN\n",
       "20435 2023-09-14 10:00:00    NaN       28.50       NaN    NaN\n",
       "20436 2023-09-14 10:00:00  28.83         NaN       NaN    NaN\n",
       "\n",
       "[20437 rows x 5 columns]"
      ]
     },
     "execution_count": 1694,
     "metadata": {},
     "output_type": "execute_result"
    }
   ],
   "source": [
    "# data['superficie'] = data['superficie'].str.replace('°C', '', regex=True).astype(float)\n",
    "# data['fondo'] = data['fondo'].str.replace('°C', '', regex=True).astype(float)\n",
    "# data['ambiente'] = data['ambiente'].str.replace('°C', '', regex=False).astype(float)\n",
    "# data['nivel'] = data['nivel'].str.replace('cm', '', regex=True).astype(float)\n",
    "\n",
    "data"
   ]
  },
  {
   "cell_type": "code",
   "execution_count": 1695,
   "metadata": {},
   "outputs": [
    {
     "data": {
      "text/html": [
       "<div>\n",
       "<style scoped>\n",
       "    .dataframe tbody tr th:only-of-type {\n",
       "        vertical-align: middle;\n",
       "    }\n",
       "\n",
       "    .dataframe tbody tr th {\n",
       "        vertical-align: top;\n",
       "    }\n",
       "\n",
       "    .dataframe thead th {\n",
       "        text-align: right;\n",
       "    }\n",
       "</style>\n",
       "<table border=\"1\" class=\"dataframe\">\n",
       "  <thead>\n",
       "    <tr style=\"text-align: right;\">\n",
       "      <th></th>\n",
       "      <th>date</th>\n",
       "      <th>fondo</th>\n",
       "      <th>superficie</th>\n",
       "      <th>ambiente</th>\n",
       "      <th>nivel</th>\n",
       "    </tr>\n",
       "  </thead>\n",
       "  <tbody>\n",
       "    <tr>\n",
       "      <th>0</th>\n",
       "      <td>2022-09-26 02:00:00</td>\n",
       "      <td>NaN</td>\n",
       "      <td>NaN</td>\n",
       "      <td>NaN</td>\n",
       "      <td>40.3</td>\n",
       "    </tr>\n",
       "    <tr>\n",
       "      <th>1</th>\n",
       "      <td>2022-09-26 02:00:00</td>\n",
       "      <td>NaN</td>\n",
       "      <td>NaN</td>\n",
       "      <td>20.474</td>\n",
       "      <td>NaN</td>\n",
       "    </tr>\n",
       "    <tr>\n",
       "      <th>2</th>\n",
       "      <td>2022-09-26 08:00:00</td>\n",
       "      <td>NaN</td>\n",
       "      <td>NaN</td>\n",
       "      <td>22.608</td>\n",
       "      <td>NaN</td>\n",
       "    </tr>\n",
       "    <tr>\n",
       "      <th>3</th>\n",
       "      <td>2022-09-26 14:00:00</td>\n",
       "      <td>NaN</td>\n",
       "      <td>NaN</td>\n",
       "      <td>24.422</td>\n",
       "      <td>NaN</td>\n",
       "    </tr>\n",
       "    <tr>\n",
       "      <th>4</th>\n",
       "      <td>2022-09-26 20:00:00</td>\n",
       "      <td>NaN</td>\n",
       "      <td>NaN</td>\n",
       "      <td>18.580</td>\n",
       "      <td>NaN</td>\n",
       "    </tr>\n",
       "  </tbody>\n",
       "</table>\n",
       "</div>"
      ],
      "text/plain": [
       "                 date  fondo  superficie  ambiente  nivel\n",
       "0 2022-09-26 02:00:00    NaN         NaN       NaN   40.3\n",
       "1 2022-09-26 02:00:00    NaN         NaN    20.474    NaN\n",
       "2 2022-09-26 08:00:00    NaN         NaN    22.608    NaN\n",
       "3 2022-09-26 14:00:00    NaN         NaN    24.422    NaN\n",
       "4 2022-09-26 20:00:00    NaN         NaN    18.580    NaN"
      ]
     },
     "execution_count": 1695,
     "metadata": {},
     "output_type": "execute_result"
    }
   ],
   "source": [
    "data.head(5)"
   ]
  },
  {
   "cell_type": "code",
   "execution_count": 1696,
   "metadata": {},
   "outputs": [
    {
     "data": {
      "text/plain": [
       "date              0\n",
       "fondo         12704\n",
       "superficie    12706\n",
       "ambiente      17842\n",
       "nivel         18059\n",
       "dtype: int64"
      ]
     },
     "execution_count": 1696,
     "metadata": {},
     "output_type": "execute_result"
    }
   ],
   "source": [
    "data.isnull().sum()"
   ]
  },
  {
   "cell_type": "code",
   "execution_count": 1697,
   "metadata": {},
   "outputs": [
    {
     "name": "stdout",
     "output_type": "stream",
     "text": [
      "\n",
      "Total de valores NAN: 0\n",
      "\n"
     ]
    }
   ],
   "source": [
    "nan_values = data.shape[0]\n",
    "\n",
    "data = data.dropna(subset=[col for col in data.columns if col != 'date'], how='all')\n",
    "\n",
    "print()\n",
    "print('Total de valores NAN:', str(nan_values - data.shape[0]))\n",
    "print()"
   ]
  },
  {
   "cell_type": "code",
   "execution_count": 1698,
   "metadata": {},
   "outputs": [
    {
     "data": {
      "text/html": [
       "<div>\n",
       "<style scoped>\n",
       "    .dataframe tbody tr th:only-of-type {\n",
       "        vertical-align: middle;\n",
       "    }\n",
       "\n",
       "    .dataframe tbody tr th {\n",
       "        vertical-align: top;\n",
       "    }\n",
       "\n",
       "    .dataframe thead th {\n",
       "        text-align: right;\n",
       "    }\n",
       "</style>\n",
       "<table border=\"1\" class=\"dataframe\">\n",
       "  <thead>\n",
       "    <tr style=\"text-align: right;\">\n",
       "      <th></th>\n",
       "      <th>date</th>\n",
       "      <th>fondo</th>\n",
       "      <th>superficie</th>\n",
       "      <th>ambiente</th>\n",
       "      <th>nivel</th>\n",
       "    </tr>\n",
       "  </thead>\n",
       "  <tbody>\n",
       "    <tr>\n",
       "      <th>0</th>\n",
       "      <td>2022-09-26 02:00:00</td>\n",
       "      <td>NaN</td>\n",
       "      <td>NaN</td>\n",
       "      <td>NaN</td>\n",
       "      <td>40.3</td>\n",
       "    </tr>\n",
       "    <tr>\n",
       "      <th>1</th>\n",
       "      <td>2022-09-26 02:00:00</td>\n",
       "      <td>NaN</td>\n",
       "      <td>NaN</td>\n",
       "      <td>20.474</td>\n",
       "      <td>NaN</td>\n",
       "    </tr>\n",
       "    <tr>\n",
       "      <th>2</th>\n",
       "      <td>2022-09-26 08:00:00</td>\n",
       "      <td>NaN</td>\n",
       "      <td>NaN</td>\n",
       "      <td>22.608</td>\n",
       "      <td>NaN</td>\n",
       "    </tr>\n",
       "    <tr>\n",
       "      <th>3</th>\n",
       "      <td>2022-09-26 14:00:00</td>\n",
       "      <td>NaN</td>\n",
       "      <td>NaN</td>\n",
       "      <td>24.422</td>\n",
       "      <td>NaN</td>\n",
       "    </tr>\n",
       "    <tr>\n",
       "      <th>4</th>\n",
       "      <td>2022-09-26 20:00:00</td>\n",
       "      <td>NaN</td>\n",
       "      <td>NaN</td>\n",
       "      <td>18.580</td>\n",
       "      <td>NaN</td>\n",
       "    </tr>\n",
       "    <tr>\n",
       "      <th>...</th>\n",
       "      <td>...</td>\n",
       "      <td>...</td>\n",
       "      <td>...</td>\n",
       "      <td>...</td>\n",
       "      <td>...</td>\n",
       "    </tr>\n",
       "    <tr>\n",
       "      <th>20432</th>\n",
       "      <td>2023-09-14 10:00:00</td>\n",
       "      <td>NaN</td>\n",
       "      <td>28.58</td>\n",
       "      <td>NaN</td>\n",
       "      <td>NaN</td>\n",
       "    </tr>\n",
       "    <tr>\n",
       "      <th>20433</th>\n",
       "      <td>2023-09-14 10:00:00</td>\n",
       "      <td>28.73</td>\n",
       "      <td>NaN</td>\n",
       "      <td>NaN</td>\n",
       "      <td>NaN</td>\n",
       "    </tr>\n",
       "    <tr>\n",
       "      <th>20434</th>\n",
       "      <td>2023-09-14 10:00:00</td>\n",
       "      <td>NaN</td>\n",
       "      <td>NaN</td>\n",
       "      <td>26.450</td>\n",
       "      <td>NaN</td>\n",
       "    </tr>\n",
       "    <tr>\n",
       "      <th>20435</th>\n",
       "      <td>2023-09-14 10:00:00</td>\n",
       "      <td>NaN</td>\n",
       "      <td>28.50</td>\n",
       "      <td>NaN</td>\n",
       "      <td>NaN</td>\n",
       "    </tr>\n",
       "    <tr>\n",
       "      <th>20436</th>\n",
       "      <td>2023-09-14 10:00:00</td>\n",
       "      <td>28.83</td>\n",
       "      <td>NaN</td>\n",
       "      <td>NaN</td>\n",
       "      <td>NaN</td>\n",
       "    </tr>\n",
       "  </tbody>\n",
       "</table>\n",
       "<p>20437 rows × 5 columns</p>\n",
       "</div>"
      ],
      "text/plain": [
       "                     date  fondo  superficie  ambiente  nivel\n",
       "0     2022-09-26 02:00:00    NaN         NaN       NaN   40.3\n",
       "1     2022-09-26 02:00:00    NaN         NaN    20.474    NaN\n",
       "2     2022-09-26 08:00:00    NaN         NaN    22.608    NaN\n",
       "3     2022-09-26 14:00:00    NaN         NaN    24.422    NaN\n",
       "4     2022-09-26 20:00:00    NaN         NaN    18.580    NaN\n",
       "...                   ...    ...         ...       ...    ...\n",
       "20432 2023-09-14 10:00:00    NaN       28.58       NaN    NaN\n",
       "20433 2023-09-14 10:00:00  28.73         NaN       NaN    NaN\n",
       "20434 2023-09-14 10:00:00    NaN         NaN    26.450    NaN\n",
       "20435 2023-09-14 10:00:00    NaN       28.50       NaN    NaN\n",
       "20436 2023-09-14 10:00:00  28.83         NaN       NaN    NaN\n",
       "\n",
       "[20437 rows x 5 columns]"
      ]
     },
     "execution_count": 1698,
     "metadata": {},
     "output_type": "execute_result"
    }
   ],
   "source": [
    "data"
   ]
  },
  {
   "cell_type": "code",
   "execution_count": 1699,
   "metadata": {},
   "outputs": [],
   "source": [
    "# !pip list"
   ]
  },
  {
   "cell_type": "code",
   "execution_count": 1700,
   "metadata": {},
   "outputs": [
    {
     "name": "stdout",
     "output_type": "stream",
     "text": [
      "                    date   fondo  superficie  ambiente  nivel\n",
      "0    2022-09-26 02:00:00     NaN         NaN    20.474   40.3\n",
      "1    2022-09-26 08:00:00     NaN         NaN    22.608    NaN\n",
      "2    2022-09-26 14:00:00     NaN         NaN    24.422    NaN\n",
      "3    2022-09-26 20:00:00     NaN         NaN    18.580    NaN\n",
      "4    2022-09-27 02:00:00     NaN         NaN       NaN   43.5\n",
      "...                  ...     ...         ...       ...    ...\n",
      "6911 2023-09-14 06:00:00  28.985      28.740    24.490   34.0\n",
      "6912 2023-09-14 07:00:00  28.875      28.650    25.060   41.0\n",
      "6913 2023-09-14 08:00:00  28.795      28.575    25.330   34.0\n",
      "6914 2023-09-14 09:00:00  28.750      28.520    26.130   33.0\n",
      "6915 2023-09-14 10:00:00  28.780      28.540    26.450    NaN\n",
      "\n",
      "[6916 rows x 5 columns]\n"
     ]
    }
   ],
   "source": [
    "data_final = data.groupby('date').mean(numeric_only = True).reset_index()\n",
    "data_final = data_final[[\"date\",\"fondo\",\"superficie\",\"ambiente\",\"nivel\"]]\n",
    "print(data_final)\n"
   ]
  },
  {
   "cell_type": "code",
   "execution_count": 1701,
   "metadata": {},
   "outputs": [
    {
     "name": "stdout",
     "output_type": "stream",
     "text": [
      "<class 'pandas.core.frame.DataFrame'>\n",
      "RangeIndex: 6916 entries, 0 to 6915\n",
      "Data columns (total 5 columns):\n",
      " #   Column      Non-Null Count  Dtype         \n",
      "---  ------      --------------  -----         \n",
      " 0   date        6916 non-null   datetime64[ns]\n",
      " 1   fondo       6217 non-null   float64       \n",
      " 2   superficie  6215 non-null   float64       \n",
      " 3   ambiente    2559 non-null   float64       \n",
      " 4   nivel       2344 non-null   float64       \n",
      "dtypes: datetime64[ns](1), float64(4)\n",
      "memory usage: 270.3 KB\n"
     ]
    }
   ],
   "source": [
    "data_final.info()"
   ]
  },
  {
   "cell_type": "code",
   "execution_count": 1702,
   "metadata": {},
   "outputs": [
    {
     "data": {
      "text/plain": [
       "date             0\n",
       "fondo          699\n",
       "superficie     701\n",
       "ambiente      4357\n",
       "nivel         4572\n",
       "dtype: int64"
      ]
     },
     "execution_count": 1702,
     "metadata": {},
     "output_type": "execute_result"
    }
   ],
   "source": [
    "data_final.isnull().sum()"
   ]
  },
  {
   "cell_type": "code",
   "execution_count": 1703,
   "metadata": {},
   "outputs": [],
   "source": [
    "data_final.to_csv('data/datos_laguna_unificados.csv', index=False)"
   ]
  },
  {
   "cell_type": "code",
   "execution_count": 1704,
   "metadata": {},
   "outputs": [
    {
     "name": "stderr",
     "output_type": "stream",
     "text": [
      "C:\\Users\\Vir\\AppData\\Local\\Temp\\ipykernel_10964\\2853987471.py:5: SettingWithCopyWarning: \n",
      "A value is trying to be set on a copy of a slice from a DataFrame.\n",
      "Try using .loc[row_indexer,col_indexer] = value instead\n",
      "\n",
      "See the caveats in the documentation: https://pandas.pydata.org/pandas-docs/stable/user_guide/indexing.html#returning-a-view-versus-a-copy\n",
      "  data_final['fecha_hora'] = pd.to_datetime(data_final['date'], format='%Y-%m-%d %H:%M:%S')\n",
      "C:\\Users\\Vir\\AppData\\Local\\Temp\\ipykernel_10964\\2853987471.py:8: SettingWithCopyWarning: \n",
      "A value is trying to be set on a copy of a slice from a DataFrame.\n",
      "Try using .loc[row_indexer,col_indexer] = value instead\n",
      "\n",
      "See the caveats in the documentation: https://pandas.pydata.org/pandas-docs/stable/user_guide/indexing.html#returning-a-view-versus-a-copy\n",
      "  data_final['fecha'] = data_final['fecha_hora'].dt.date\n"
     ]
    },
    {
     "data": {
      "image/png": "[encoded data removed]",
      "text/plain": [
       "<Figure size 1500x2000 with 1 Axes>"
      ]
     },
     "metadata": {},
     "output_type": "display_data"
    }
   ],
   "source": [
    "data = data[['date','nivel']]\n",
    "data_final = data.dropna(subset=[col for col in data.columns if col != 'date'], how='all')\n",
    "\n",
    "\n",
    "data_final['fecha_hora'] = pd.to_datetime(data_final['date'], format='%Y-%m-%d %H:%M:%S')\n",
    "\n",
    "# Extraemos el día de la fecha_hora\n",
    "data_final['fecha'] = data_final['fecha_hora'].dt.date\n",
    "\n",
    "# Agrupamos las fechas por día y obtenemos las horas presentes en cada día\n",
    "horas_por_dia = data_final.groupby('fecha')['fecha_hora'].apply(lambda x: x.dt.strftime('%H:%M:%S').tolist())\n",
    "\n",
    "# Crear una figura y ejes para la gráfica\n",
    "fig, ax = plt.subplots(figsize=(15, 20))\n",
    "\n",
    "# Graficar las horas presentes para cada día\n",
    "for fecha, horas in horas_por_dia.items():\n",
    "    ax.plot([fecha] * len(horas), horas, 'o', label=fecha)\n",
    "\n",
    "# Configurar la apariencia de la gráfica\n",
    "plt.xlabel('Día')\n",
    "plt.ylabel('Horas presentes')\n",
    "plt.title('Horas presentes para cada día')\n",
    "\n",
    "\n",
    "# Mostrar la gráfica\n",
    "plt.tight_layout()\n",
    "plt.show()"
   ]
  }
 ],
 "metadata": {
  "kernelspec": {
   "display_name": "Python 3",
   "language": "python",
   "name": "python3"
  },
  "language_info": {
   "codemirror_mode": {
    "name": "ipython",
    "version": 3
   },
   "file_extension": ".py",
   "mimetype": "text/x-python",
   "name": "python",
   "nbconvert_exporter": "python",
   "pygments_lexer": "ipython3",
   "version": "3.12.2"
  },
  "orig_nbformat": 4
 },
 "nbformat": 4,
 "nbformat_minor": 2
}
