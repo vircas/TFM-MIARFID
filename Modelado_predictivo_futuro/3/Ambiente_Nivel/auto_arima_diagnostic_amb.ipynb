{
  "cells": [
    {
      "cell_type": "code",
      "execution_count": 1,
      "metadata": {
        "colab": {
          "base_uri": "https://localhost:8080/"
        },
        "id": "U2hRUKNYSsMi",
        "outputId": "d40e0b82-3cfc-46f7-a136-5d55264c73de"
      },
      "outputs": [],
      "source": [
        "# ! pip install pmdarima"
      ]
    },
    {
      "cell_type": "code",
      "execution_count": 2,
      "metadata": {
        "id": "qyV5KNNnSN1q"
      },
      "outputs": [],
      "source": [
        "from pmdarima import auto_arima\n",
        "import pandas as pd"
      ]
    },
    {
      "cell_type": "code",
      "execution_count": 3,
      "metadata": {
        "colab": {
          "base_uri": "https://localhost:8080/",
          "height": 429
        },
        "id": "dQiFfxIRSj4b",
        "outputId": "566a531c-f5f8-4dd1-e329-52eb1feaf23f"
      },
      "outputs": [
        {
          "name": "stdout",
          "output_type": "stream",
          "text": [
            "<class 'pandas.core.frame.DataFrame'>\n",
            "DatetimeIndex: 2113 entries, 2023-06-17 00:00:00 to 2023-09-13 00:00:00\n",
            "Freq: h\n",
            "Data columns (total 3 columns):\n",
            " #   Column       Non-Null Count  Dtype  \n",
            "---  ------       --------------  -----  \n",
            " 0   temperatura  2113 non-null   float64\n",
            " 1   ambiente     2113 non-null   float64\n",
            " 2   nivel        2113 non-null   float64\n",
            "dtypes: float64(3)\n",
            "memory usage: 66.0 KB\n"
          ]
        },
        {
          "name": "stderr",
          "output_type": "stream",
          "text": [
            "C:\\Users\\Vir\\AppData\\Local\\Temp\\ipykernel_4848\\4089503096.py:19: FutureWarning: 'H' is deprecated and will be removed in a future version, please use 'h' instead.\n",
            "  datos = datos.asfreq('H')\n"
          ]
        },
        {
          "data": {
            "text/html": [
              "<div>\n",
              "<style scoped>\n",
              "    .dataframe tbody tr th:only-of-type {\n",
              "        vertical-align: middle;\n",
              "    }\n",
              "\n",
              "    .dataframe tbody tr th {\n",
              "        vertical-align: top;\n",
              "    }\n",
              "\n",
              "    .dataframe thead th {\n",
              "        text-align: right;\n",
              "    }\n",
              "</style>\n",
              "<table border=\"1\" class=\"dataframe\">\n",
              "  <thead>\n",
              "    <tr style=\"text-align: right;\">\n",
              "      <th></th>\n",
              "      <th>temperatura</th>\n",
              "      <th>ambiente</th>\n",
              "      <th>nivel</th>\n",
              "    </tr>\n",
              "    <tr>\n",
              "      <th>fecha</th>\n",
              "      <th></th>\n",
              "      <th></th>\n",
              "      <th></th>\n",
              "    </tr>\n",
              "  </thead>\n",
              "  <tbody>\n",
              "    <tr>\n",
              "      <th>2023-06-17 00:00:00</th>\n",
              "      <td>31.500</td>\n",
              "      <td>22.000000</td>\n",
              "      <td>51.0</td>\n",
              "    </tr>\n",
              "    <tr>\n",
              "      <th>2023-06-17 01:00:00</th>\n",
              "      <td>31.470</td>\n",
              "      <td>21.780000</td>\n",
              "      <td>51.0</td>\n",
              "    </tr>\n",
              "    <tr>\n",
              "      <th>2023-06-17 02:00:00</th>\n",
              "      <td>31.235</td>\n",
              "      <td>21.201000</td>\n",
              "      <td>47.8</td>\n",
              "    </tr>\n",
              "    <tr>\n",
              "      <th>2023-06-17 03:00:00</th>\n",
              "      <td>31.295</td>\n",
              "      <td>22.439250</td>\n",
              "      <td>52.0</td>\n",
              "    </tr>\n",
              "    <tr>\n",
              "      <th>2023-06-17 04:00:00</th>\n",
              "      <td>31.375</td>\n",
              "      <td>23.058375</td>\n",
              "      <td>50.0</td>\n",
              "    </tr>\n",
              "  </tbody>\n",
              "</table>\n",
              "</div>"
            ],
            "text/plain": [
              "                     temperatura   ambiente  nivel\n",
              "fecha                                             \n",
              "2023-06-17 00:00:00       31.500  22.000000   51.0\n",
              "2023-06-17 01:00:00       31.470  21.780000   51.0\n",
              "2023-06-17 02:00:00       31.235  21.201000   47.8\n",
              "2023-06-17 03:00:00       31.295  22.439250   52.0\n",
              "2023-06-17 04:00:00       31.375  23.058375   50.0"
            ]
          },
          "execution_count": 3,
          "metadata": {},
          "output_type": "execute_result"
        }
      ],
      "source": [
        "FILE_DATOS = './data/laguna_datos_horarios_rellenos.csv'\n",
        "parametro = 'temperatura'\n",
        "output=parametro\n",
        "inputs = [\n",
        "          'fecha', 'temperatura',\n",
        "          'ambiente', 'nivel'\n",
        "          ]\n",
        "usecols = inputs.copy()\n",
        "\n",
        "datos = pd.read_csv(FILE_DATOS,\n",
        "                    sep=',',\n",
        "                    usecols = usecols)\n",
        "\n",
        "# Preparación del dato\n",
        "# ==============================================================================\n",
        "datos['fecha'] = pd.to_datetime(datos['fecha'], format='%d/%m/%Y %H:%M')\n",
        "datos = datos.set_index('fecha')\n",
        "datos = datos.rename(columns={'x': 'y'})\n",
        "datos = datos.asfreq('H')\n",
        "datos = datos.sort_index()\n",
        "\n",
        "datos.info()\n",
        "\n",
        "datos.head()"
      ]
    },
    {
      "cell_type": "code",
      "execution_count": 4,
      "metadata": {
        "colab": {
          "base_uri": "https://localhost:8080/"
        },
        "id": "4WeySZGoSWOj",
        "outputId": "09b81df3-ca5f-48c7-b1d2-1b1df61d7e98"
      },
      "outputs": [
        {
          "name": "stderr",
          "output_type": "stream",
          "text": [
            "c:\\Users\\Vir\\AppData\\Local\\Programs\\Python\\Python312\\Lib\\site-packages\\pmdarima\\arima\\_validation.py:62: UserWarning: m (24) set for non-seasonal fit. Setting to 0\n",
            "  warnings.warn(\"m (%i) set for non-seasonal fit. Setting to 0\" % m)\n"
          ]
        },
        {
          "name": "stdout",
          "output_type": "stream",
          "text": [
            "Performing stepwise search to minimize aic\n",
            " ARIMA(0,1,0)(0,0,0)[0] intercept   : AIC=4233.715, Time=0.40 sec\n",
            " ARIMA(1,1,0)(0,0,0)[0] intercept   : AIC=3557.138, Time=0.50 sec\n",
            " ARIMA(0,1,1)(0,0,0)[0] intercept   : AIC=3682.380, Time=0.59 sec\n",
            " ARIMA(0,1,0)(0,0,0)[0]             : AIC=4231.719, Time=0.13 sec\n",
            " ARIMA(2,1,0)(0,0,0)[0] intercept   : AIC=3558.614, Time=0.47 sec\n",
            " ARIMA(1,1,1)(0,0,0)[0] intercept   : AIC=3558.608, Time=0.79 sec\n",
            " ARIMA(2,1,1)(0,0,0)[0] intercept   : AIC=3560.191, Time=2.70 sec\n",
            " ARIMA(1,1,0)(0,0,0)[0]             : AIC=3555.140, Time=0.37 sec\n",
            " ARIMA(2,1,0)(0,0,0)[0]             : AIC=3556.616, Time=0.23 sec\n",
            " ARIMA(1,1,1)(0,0,0)[0]             : AIC=3556.609, Time=0.33 sec\n",
            " ARIMA(0,1,1)(0,0,0)[0]             : AIC=3680.384, Time=0.21 sec\n",
            " ARIMA(2,1,1)(0,0,0)[0]             : AIC=3558.193, Time=0.92 sec\n",
            "\n",
            "Best model:  ARIMA(1,1,0)(0,0,0)[0]          \n",
            "Total fit time: 7.678 seconds\n",
            " ARIMA(1,1,0)(0,0,0)[0]          \n"
          ]
        }
      ],
      "source": [
        "modelo_auto=auto_arima(datos['ambiente'],\n",
        "                       start_p=0,d=1,start_q=0,\n",
        "         max_p=10,max_d=3,max_q=10, m=24, seasonal=False,\n",
        "         error_action='warn',trace=True,\n",
        "         supress_warnings=True,stepwise=True,\n",
        "         random_state=20,n_fits=100)\n",
        "print(modelo_auto)"
      ]
    },
    {
      "cell_type": "code",
      "execution_count": 5,
      "metadata": {
        "colab": {
          "base_uri": "https://localhost:8080/"
        },
        "id": "RBzDWFL_Swn1",
        "outputId": "58b28ab4-d330-4700-e1f5-bf4109bc5e17"
      },
      "outputs": [
        {
          "name": "stdout",
          "output_type": "stream",
          "text": [
            "Performing stepwise search to minimize aic\n",
            " ARIMA(0,1,0)(1,0,1)[24] intercept   : AIC=inf, Time=18.69 sec\n",
            " ARIMA(0,1,0)(0,0,0)[24] intercept   : AIC=4233.715, Time=0.35 sec\n",
            " ARIMA(1,1,0)(1,0,0)[24] intercept   : AIC=3159.628, Time=5.30 sec\n",
            " ARIMA(0,1,1)(0,0,1)[24] intercept   : AIC=3387.497, Time=4.68 sec\n",
            " ARIMA(0,1,0)(0,0,0)[24]             : AIC=4231.719, Time=0.12 sec\n",
            " ARIMA(1,1,0)(0,0,0)[24] intercept   : AIC=3557.138, Time=0.46 sec\n",
            " ARIMA(1,1,0)(2,0,0)[24] intercept   : AIC=2980.610, Time=32.24 sec\n",
            " ARIMA(1,1,0)(2,0,1)[24] intercept   : AIC=inf, Time=70.47 sec\n",
            " ARIMA(1,1,0)(1,0,1)[24] intercept   : AIC=inf, Time=18.11 sec\n",
            " ARIMA(0,1,0)(2,0,0)[24] intercept   : AIC=inf, Time=36.31 sec\n",
            " ARIMA(2,1,0)(2,0,0)[24] intercept   : AIC=2981.009, Time=45.22 sec\n",
            " ARIMA(1,1,1)(2,0,0)[24] intercept   : AIC=2980.889, Time=48.21 sec\n",
            " ARIMA(0,1,1)(2,0,0)[24] intercept   : AIC=2983.819, Time=27.95 sec\n",
            " ARIMA(2,1,1)(2,0,0)[24] intercept   : AIC=2982.472, Time=86.75 sec\n",
            " ARIMA(1,1,0)(2,0,0)[24]             : AIC=2978.611, Time=5.78 sec\n",
            " ARIMA(1,1,0)(1,0,0)[24]             : AIC=3157.631, Time=1.70 sec\n",
            " ARIMA(1,1,0)(2,0,1)[24]             : AIC=inf, Time=28.50 sec\n",
            " ARIMA(1,1,0)(1,0,1)[24]             : AIC=inf, Time=6.27 sec\n",
            " ARIMA(0,1,0)(2,0,0)[24]             : AIC=inf, Time=4.59 sec\n",
            " ARIMA(2,1,0)(2,0,0)[24]             : AIC=2979.010, Time=9.59 sec\n",
            " ARIMA(1,1,1)(2,0,0)[24]             : AIC=2978.890, Time=11.56 sec\n",
            " ARIMA(0,1,1)(2,0,0)[24]             : AIC=2981.820, Time=6.54 sec\n",
            " ARIMA(2,1,1)(2,0,0)[24]             : AIC=2980.473, Time=30.99 sec\n",
            "\n",
            "Best model:  ARIMA(1,1,0)(2,0,0)[24]          \n",
            "Total fit time: 500.470 seconds\n",
            " ARIMA(1,1,0)(2,0,0)[24]          \n"
          ]
        }
      ],
      "source": [
        "modelo_auto=auto_arima(datos['ambiente'],\n",
        "                       start_p=0,d=1,start_q=0,\n",
        "         max_p=10,max_d=2,max_q=10, m=24, seasonal=True,\n",
        "         error_action='warn',trace=True,\n",
        "         supress_warnings=True,stepwise=True,\n",
        "         random_state=20,n_fits=100)\n",
        "print(modelo_auto)"
      ]
    }
  ],
  "metadata": {
    "accelerator": "GPU",
    "colab": {
      "gpuType": "T4",
      "machine_shape": "hm",
      "provenance": []
    },
    "kernelspec": {
      "display_name": "Python 3",
      "name": "python3"
    },
    "language_info": {
      "codemirror_mode": {
        "name": "ipython",
        "version": 3
      },
      "file_extension": ".py",
      "mimetype": "text/x-python",
      "name": "python",
      "nbconvert_exporter": "python",
      "pygments_lexer": "ipython3",
      "version": "3.12.2"
    }
  },
  "nbformat": 4,
  "nbformat_minor": 0
}
